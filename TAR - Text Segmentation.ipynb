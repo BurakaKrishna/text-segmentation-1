{
 "cells": [
  {
   "cell_type": "markdown",
   "metadata": {},
   "source": [
    "# TAR PROJECT - TEXT SEGMENTATION\n",
    "\n",
    "### Authors: Mirela Oštrek and Luka Dulčić"
   ]
  },
  {
   "cell_type": "code",
   "execution_count": 1,
   "metadata": {
    "collapsed": true
   },
   "outputs": [],
   "source": [
    "import numpy as np\n",
    "import nltk\n",
    "from nltk.stem.porter import PorterStemmer\n",
    "import string\n",
    "import os"
   ]
  },
  {
   "cell_type": "markdown",
   "metadata": {},
   "source": [
    "Helper functions"
   ]
  },
  {
   "cell_type": "code",
   "execution_count": 2,
   "metadata": {
    "collapsed": false
   },
   "outputs": [],
   "source": [
    "from sklearn.feature_extraction.text import ENGLISH_STOP_WORDS\n",
    "\n",
    "stemmer = PorterStemmer()\n",
    "# irrelevant characters specific for choi dataset\n",
    "choi_noise = ['--', '\\'\\'', '``', ';', '..', '...', 'afj', '0', '1', '2', '3', '4', '5', '6', '7', '8', '9']\n",
    "\n",
    "def stem_tokens(tokens, stemmer):\n",
    "    stemmed = []\n",
    "    for item in tokens:\n",
    "        stemmed.append(stemmer.stem(item))\n",
    "    return stemmed\n",
    "\n",
    "def tokenize(text):\n",
    "    tokens = nltk.word_tokenize(text)\n",
    "    tokens = map(lambda t: t.lower(), tokens)\n",
    "    tokens = filter(lambda t: t not in string.punctuation, tokens)\n",
    "    tokens = filter(lambda t: t not in ENGLISH_STOP_WORDS, tokens)\n",
    "    tokens = filter(lambda t: t not in choi_noise, tokens)\n",
    "    tokens = filter(lambda t: t[0] != '\\'', tokens)#remove strings like \"'s\" \n",
    "    stems = stem_tokens(tokens, stemmer)\n",
    "    return stems\n",
    "\n",
    "def get_filepaths(directory):\n",
    "\n",
    "    file_paths = []\n",
    "\n",
    "    for root, directories, files in os.walk(directory):\n",
    "        for filename in files:\n",
    "            # Join the two strings in order to form the full filepath.\n",
    "            filepath = os.path.join(root, filename)\n",
    "            file_paths.append(filepath)\n",
    "\n",
    "    return file_paths\n",
    "\n",
    "def doc_to_seg_string(n_sent, boundaries):\n",
    "    '''\n",
    "    Creates string which represents documents (eg. '0000100001000')\n",
    "    where 0 marks sentence and 1 marks boundary between segments.\n",
    "    This string is used for evaluating topic tiling algorithm with Pk\n",
    "    and WD measure.\n",
    "    \n",
    "    @param n_sent: number of sentences in document.\n",
    "    @param boundaries: indices of boundaries between segments\n",
    "    '''\n",
    "    seg_string = ''\n",
    "    for i in range(n_sent):\n",
    "        if i in boundaries:\n",
    "            seg_string += '10'\n",
    "        else:\n",
    "            seg_string += '0'\n",
    "    return seg_string\n",
    "\n",
    "def print_top_words(model, feature_names, n_top_words):\n",
    "    '''\n",
    "    Prints top words for each topic where \"model\" is LDA model.\n",
    "    '''\n",
    "    for topic_idx, topic in enumerate(model.components_):\n",
    "        print \"Topic #%d:\" % topic_idx\n",
    "        print \" \".join([feature_names[i] for i in topic.argsort()[:-n_top_words - 1:-1]])\n",
    "    print\n",
    "    \n",
    "def max_left(sequence, ind_curr):\n",
    "    max = sequence[ind_curr]\n",
    "    while (ind_curr != 0) and (max <= sequence[ind_curr-1]):\n",
    "        max = sequence[ind_curr-1]\n",
    "        ind_curr -= 1 \n",
    "    return max\n",
    "\n",
    "def max_right(sequence, ind_curr):\n",
    "    max = sequence[ind_curr]\n",
    "    while (ind_curr != (len(sequence)-1)) and (max <= sequence[ind_curr+1]):\n",
    "        max = sequence[ind_curr+1]\n",
    "        ind_curr += 1  \n",
    "    return max"
   ]
  },
  {
   "cell_type": "markdown",
   "metadata": {},
   "source": [
    "Loading dataset"
   ]
  },
  {
   "cell_type": "code",
   "execution_count": 3,
   "metadata": {
    "collapsed": false
   },
   "outputs": [],
   "source": [
    "class Document:\n",
    "    \n",
    "    def __init__(self, path):\n",
    "        '''\n",
    "        @param sentences: list of document sentences\n",
    "        @param boundaries: list of positions where segments boundaries are\n",
    "        @param segment_divider: string which indicates boundary between two segments\n",
    "        '''\n",
    "        self.sentences = []\n",
    "        self.boundaries = []\n",
    "        self.segment_divider = \"==========\"\n",
    "        \n",
    "        self.load_document(path)\n",
    "        \n",
    "    def load_document(self, path):\n",
    "        '''\n",
    "        @param path: path to file where document is\n",
    "        '''\n",
    "        sentences = self.get_valid_sentences(path)\n",
    "        for i, sentence in enumerate(sentences):\n",
    "            if sentence != self.segment_divider:\n",
    "                self.sentences.append(sentence)\n",
    "            else:\n",
    "                self.boundaries.append(i - len(self.boundaries))\n",
    "        #remove unecessary boundaries at beginning and the end\n",
    "        del self.boundaries[0]\n",
    "        del self.boundaries[-1]\n",
    "        \n",
    "    def get_valid_sentences(self, path):\n",
    "        '''\n",
    "        Reads all sentences from file and filters out invalid ones.\n",
    "        Invalid sentences are sentences which are empty or contain\n",
    "        only irrelevant tokens like stop words, punctuations, etc.\n",
    "        '''\n",
    "        sentences = []\n",
    "        with open(path, 'r') as fd:\n",
    "            for line in fd:\n",
    "                line = line.rstrip('\\n')\n",
    "                if tokenize(line):\n",
    "                    # if line is valid\n",
    "                    sentences.append(line)\n",
    "        return sentences\n",
    "        \n",
    "    \n",
    "    def to_text(self):\n",
    "        '''\n",
    "        Returns this documents as appendend string of sentences.\n",
    "        '''\n",
    "        return '\\n'.join(self.sentences)\n",
    "    \n",
    "    def to_segments(self):\n",
    "        '''\n",
    "        Returns this document as list of segments based on boundaries.\n",
    "        '''\n",
    "        segments = []\n",
    "        for i, boundary in enumerate(self.boundaries):\n",
    "            if i == 0:\n",
    "                segments.append(' '.join(self.sentences[0:boundary]))\n",
    "            else:\n",
    "                last_b = self.boundaries[i - 1]\n",
    "                segments.append(' '.join(self.sentences[last_b:boundary]))\n",
    "        segments.append(' '.join(self.sentences[self.boundaries[-1]:]))\n",
    "        return segments"
   ]
  },
  {
   "cell_type": "code",
   "execution_count": 24,
   "metadata": {
    "collapsed": false
   },
   "outputs": [],
   "source": [
    "train_data_path = \"choi_data/1/3-5/\"\n",
    "test_data_path = \"choi_data/1/3-5/45.ref\"\n",
    "\n",
    "files_paths = get_filepaths(train_data_path)\n",
    "files_paths.remove(test_data_path)\n",
    "\n",
    "documents = []\n",
    "for path in files_paths:\n",
    "    if path != test_data_path:\n",
    "        documents.append(Document(path))\n",
    "\n",
    "test_document = Document(test_data_path)"
   ]
  },
  {
   "cell_type": "markdown",
   "metadata": {},
   "source": [
    "#### ACTUAL WORK"
   ]
  },
  {
   "cell_type": "code",
   "execution_count": 25,
   "metadata": {
    "collapsed": false
   },
   "outputs": [],
   "source": [
    "from sklearn.feature_extraction.text import CountVectorizer\n",
    "\n",
    "n_topics = 10\n",
    "\n",
    "train_data = []\n",
    "for document in documents:\n",
    "    train_data.extend(document.to_segments())\n",
    "\n",
    "vectorizer = CountVectorizer(max_df=0.95, min_df=2, tokenizer=tokenize, stop_words='english')\n",
    "X = vectorizer.fit_transform(train_data)"
   ]
  },
  {
   "cell_type": "code",
   "execution_count": 26,
   "metadata": {
    "collapsed": false
   },
   "outputs": [
    {
     "data": {
      "text/plain": [
       "LatentDirichletAllocation(batch_size=128, doc_topic_prior=5,\n",
       "             evaluate_every=-1, learning_decay=0.7,\n",
       "             learning_method='online', learning_offset=10.0,\n",
       "             max_doc_update_iter=100, max_iter=100, mean_change_tol=0.001,\n",
       "             n_jobs=-1, n_topics=10, perp_tol=0.1, random_state=273,\n",
       "             topic_word_prior=0.01, total_samples=1000000.0, verbose=0)"
      ]
     },
     "execution_count": 26,
     "metadata": {},
     "output_type": "execute_result"
    }
   ],
   "source": [
    "from sklearn.decomposition import LatentDirichletAllocation\n",
    "\n",
    "lda = LatentDirichletAllocation(n_topics=n_topics, max_iter=100, n_jobs=-1, doc_topic_prior=5, topic_word_prior=0.01, random_state=273)\n",
    "lda.fit(X)"
   ]
  },
  {
   "cell_type": "markdown",
   "metadata": {},
   "source": [
    "## Topic Tiling"
   ]
  },
  {
   "cell_type": "code",
   "execution_count": 27,
   "metadata": {
    "collapsed": false
   },
   "outputs": [],
   "source": [
    "tokenized_sentences = [tokenize(sentence) for sentence in test_document.sentences]"
   ]
  },
  {
   "cell_type": "code",
   "execution_count": 28,
   "metadata": {
    "collapsed": false
   },
   "outputs": [],
   "source": [
    "sentence_vectors = []\n",
    "#TODO it is suggested to remove sentences with less than 5 tokens for better performance\n",
    "for sentence in tokenized_sentences:\n",
    "    vector = np.zeros(n_topics)\n",
    "    for token in sentence:\n",
    "        #IMPORTANT WHAT TO DO IF TOKEN IS NOT IN DICTIONARY?\n",
    "        if token in vectorizer.vocabulary_:\n",
    "            index = lda.components_[:, vectorizer.vocabulary_[token]].argmax()\n",
    "            vector[index] += 1\n",
    "    sentence_vectors.append(vector)\n",
    "\n",
    "sentence_vectors = filter(lambda v: sum(v) > 0, sentence_vectors) # remove empty vectors (vectors with all elements 0)"
   ]
  },
  {
   "cell_type": "code",
   "execution_count": 12,
   "metadata": {
    "collapsed": false
   },
   "outputs": [
    {
     "name": "stdout",
     "output_type": "stream",
     "text": [
      "Populating the interactive namespace from numpy and matplotlib\n"
     ]
    }
   ],
   "source": [
    "from scipy import spatial\n",
    "import matplotlib.pyplot as plt\n",
    "from __future__ import division\n",
    "from scipy.signal import argrelextrema\n",
    "from nltk.metrics.segmentation import pk\n",
    "from nltk.metrics.segmentation import windowdiff\n",
    "%pylab inline"
   ]
  },
  {
   "cell_type": "code",
   "execution_count": 30,
   "metadata": {
    "collapsed": false
   },
   "outputs": [
    {
     "data": {
      "image/png": "[encoded data removed]",
      "text/plain": [
       "<matplotlib.figure.Figure at 0x7f95acc88fd0>"
      ]
     },
     "metadata": {},
     "output_type": "display_data"
    },
    {
     "name": "stdout",
     "output_type": "stream",
     "text": [
      "00010001000001000001000010000010000010000010000100000\n",
      "00010000100001000001000010000001000010000010000100000\n",
      "Pk measure result 0.078431\n"
     ]
    }
   ],
   "source": [
    "cosine_similarities = np.empty(0)\n",
    "depth_scores = []\n",
    "\n",
    "#racunam cos similarities\n",
    "for i in range(0, len(sentence_vectors)-1):\n",
    "    sim = 1 - spatial.distance.cosine(sentence_vectors[i], sentence_vectors[i+1])\n",
    "    cosine_similarities = np.append(cosine_similarities, sim)\n",
    "\n",
    "#get all local minima\n",
    "split_candidates_indices = argrelextrema(cosine_similarities, np.less_equal)[0]\n",
    "\n",
    "#racunam depth score\n",
    "for i in split_candidates_indices:\n",
    "    depth = 1/2 * (max_left(cosine_similarities, i) + max_right(cosine_similarities, i) - 2 * cosine_similarities[i])\n",
    "    depth_scores.append((depth, i))\n",
    "\n",
    "tmp = np.array(map(lambda d: d[0], depth_scores))\n",
    "condition = tmp.mean() - 0.5*tmp.std()\n",
    "tmp = filter(lambda d: d[0] > condition, depth_scores)\n",
    "plot_indices = [d[1] for d in tmp]\n",
    "\n",
    "'''\n",
    "import copy\n",
    "tmp = copy.deepcopy(depth_scores)\n",
    "indices = []\n",
    "for i in range(9):\n",
    "    max = tmp[0][0]\n",
    "    index = tmp[0][1]\n",
    "    to_remove = tmp[0]\n",
    "    for depth in tmp:\n",
    "        if depth[0] > max:\n",
    "            max = depth[0]\n",
    "            index = depth[1]\n",
    "            to_remove = depth\n",
    "    indices.append(index)\n",
    "    tmp.remove(to_remove)\n",
    "\n",
    "plot_indices = sorted(indices)\n",
    "#print plot_indices\n",
    "'''\n",
    "\n",
    "######################\n",
    "## GRAF RAZDVAJANJA ##\n",
    "######################\n",
    "\n",
    "plt.plot(range(0, len(cosine_similarities)), cosine_similarities)\n",
    "plt.vlines(plot_indices, 0, 1, 'm')\n",
    "plt.xlabel(\"sentences\")\n",
    "plt.ylabel(\"cosine similarities\")\n",
    "plt.grid()\n",
    "plt.show()\n",
    "\n",
    "ref_doc = doc_to_seg_string(len(test_document.sentences), map(lambda b: b-1, test_document.boundaries))\n",
    "estimated_doc = doc_to_seg_string(len(test_document.sentences), plot_indices)\n",
    "\n",
    "print ref_doc\n",
    "print estimated_doc\n",
    "\n",
    "#k = int(round(len(ref_doc) / (ref_doc.count('1') * 2.)))\n",
    "\n",
    "print 'Pk measure result %f' % pk(ref_doc, estimated_doc)\n",
    "#print 'WD measure result %f' % windowdiff(ref_doc, estimated_doc, k)"
   ]
  }
 ],
 "metadata": {
  "kernelspec": {
   "display_name": "Python 2",
   "language": "python",
   "name": "python2"
  },
  "language_info": {
   "codemirror_mode": {
    "name": "ipython",
    "version": 2
   },
   "file_extension": ".py",
   "mimetype": "text/x-python",
   "name": "python",
   "nbconvert_exporter": "python",
   "pygments_lexer": "ipython2",
   "version": "2.7.9"
  }
 },
 "nbformat": 4,
 "nbformat_minor": 0
}
