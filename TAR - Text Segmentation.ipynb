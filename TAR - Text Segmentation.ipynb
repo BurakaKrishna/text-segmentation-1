{
 "cells": [
  {
   "cell_type": "markdown",
   "metadata": {
    "collapsed": true
   },
   "source": [
    "# TAR PROJECT - TEXT SEGMENTATION\n",
    "\n",
    "### Authors: Mirela Oštrek and Luka Dulčić"
   ]
  },
  {
   "cell_type": "code",
   "execution_count": 12,
   "metadata": {
    "collapsed": false
   },
   "outputs": [
    {
     "name": "stdout",
     "output_type": "stream",
     "text": [
      "Populating the interactive namespace from numpy and matplotlib\n"
     ]
    }
   ],
   "source": [
    "import numpy as np\n",
    "import nltk\n",
    "from nltk.stem.porter import PorterStemmer\n",
    "import string\n",
    "import os\n",
    "%pylab inline"
   ]
  },
  {
   "cell_type": "markdown",
   "metadata": {},
   "source": [
    "### Helper functions"
   ]
  },
  {
   "cell_type": "code",
   "execution_count": 13,
   "metadata": {
    "collapsed": false
   },
   "outputs": [],
   "source": [
    "from sklearn.feature_extraction.text import ENGLISH_STOP_WORDS\n",
    "\n",
    "stemmer = PorterStemmer()\n",
    "# irrelevant characters specific for choi dataset\n",
    "choi_noise = ['--', '\\'\\'', '``', ';', '..', '...', 'afj']\n",
    "\n",
    "def is_digit(string):\n",
    "    \"\"\"\n",
    "    Checks whether string is digit.\n",
    "    :param string: String\n",
    "    :return boolean: True if string is digit otherwise False.\n",
    "    \"\"\"\n",
    "    return string.replace('.', '').replace('-', '').replace(',', '').isdigit()\n",
    "\n",
    "def stem_tokens(tokens, stemmer):\n",
    "    \"\"\"\n",
    "    Stemms tokens using Porter Stemmer.\n",
    "    :param tokens: List of tokens.\n",
    "    :param stemmer: Object which has method \"stem\" (in this poject it is nltk Porter Stemmer)\n",
    "    :return list: List of stemmed tokens.\n",
    "    \"\"\"\n",
    "    stemmed = []\n",
    "    for item in tokens:\n",
    "        stemmed.append(stemmer.stem(item))\n",
    "    return stemmed\n",
    "\n",
    "def tokenize(text):\n",
    "    \"\"\"\n",
    "    Tokenizes text.\n",
    "    \n",
    "    :param text: String.\n",
    "    :return list: List of stemmed tokens from text.\n",
    "    \"\"\"\n",
    "    tokens = nltk.word_tokenize(text)\n",
    "    tokens = list(map(lambda t: t.lower(), tokens))\n",
    "    tokens = filter(lambda t: t not in string.punctuation, tokens)\n",
    "    tokens = filter(lambda t: t not in ENGLISH_STOP_WORDS, tokens)\n",
    "    tokens = filter(lambda t: not is_digit(t), tokens)\n",
    "    tokens = filter(lambda t: t not in choi_noise, tokens)\n",
    "    tokens = filter(lambda t: t[0] != '\\'', tokens)#remove strings like \"'s\" \n",
    "    stems = stem_tokens(tokens, stemmer)\n",
    "    return stems\n",
    "\n",
    "def get_filepaths(directory):\n",
    "    \"\"\"\n",
    "    Recursively searches directory and returns all file paths.\n",
    "    \n",
    "    :param directory: Root directory.\n",
    "    :return list: List of all files in directory and all of its subdirectories.\n",
    "    \"\"\"\n",
    "    file_paths = []\n",
    "\n",
    "    for root, directories, files in os.walk(directory):\n",
    "        for filename in files:\n",
    "            # Join the two strings in order to form the full filepath.\n",
    "            filepath = os.path.join(root, filename)\n",
    "            file_paths.append(filepath)\n",
    "\n",
    "    return file_paths\n",
    "\n",
    "def doc_to_seg_string(n_sent, boundaries):\n",
    "    \"\"\"\n",
    "    Creates string which represents documents (eg. '0000100001000')\n",
    "    where 0 marks sentence and 1 marks boundary between segments.\n",
    "    This string is used for evaluating topic tiling algorithm with Pk\n",
    "    and WD measure.\n",
    "    \n",
    "    :param n_sent: Number of sentences in document.\n",
    "    :param boundaries: Indices of boundaries between segments.\n",
    "    :return string: String which represent document.\n",
    "    \"\"\"\n",
    "    seg_string = ''\n",
    "    for i in range(n_sent):\n",
    "        if i in boundaries:\n",
    "            seg_string += '1'\n",
    "        else:\n",
    "            seg_string += '0'\n",
    "    return seg_string\n",
    "\n",
    "def print_top_words(model, feature_names, n_top_words):\n",
    "    \"\"\"\n",
    "    Prints top words for each topic where \"model\" is LDA model.\n",
    "    \"\"\"\n",
    "    for topic_idx, topic in enumerate(model.components_):\n",
    "        print(\"Topic #%d:\" % topic_idx)\n",
    "        print(\" \".join([feature_names[i] for i in topic.argsort()[:-n_top_words - 1:-1]]))\n",
    "    print()\n",
    "    \n",
    "def max_left(sequence, ind_curr):\n",
    "    \"\"\"\n",
    "    Searches for maximum value in sequence starting from ind_curr to the left.\n",
    "    \n",
    "    :param sequence: List of integer values.\n",
    "    :param ind_curr: Index from which search starts.\n",
    "    :return integer: Maximum value from in sequence where index is less than ind_curr.\n",
    "    \"\"\"\n",
    "    max = sequence[ind_curr]\n",
    "    while (ind_curr != 0) and (max <= sequence[ind_curr-1]):\n",
    "        max = sequence[ind_curr-1]\n",
    "        ind_curr -= 1 \n",
    "    return max\n",
    "\n",
    "def max_right(sequence, ind_curr):\n",
    "    \"\"\"\n",
    "    Searches for maximum value in sequence starting from ind_curr to the right.\n",
    "    \n",
    "    :param sequence: List of integer values.\n",
    "    :param ind_curr: Index from which search starts.\n",
    "    :return integer: Maximum value from in sequence where index is greater than ind_curr.\n",
    "    \"\"\"\n",
    "    max = sequence[ind_curr]\n",
    "    while (ind_curr != (len(sequence)-1)) and (max <= sequence[ind_curr+1]):\n",
    "        max = sequence[ind_curr+1]\n",
    "        ind_curr += 1  \n",
    "    return max"
   ]
  },
  {
   "cell_type": "markdown",
   "metadata": {},
   "source": [
    "### Document class"
   ]
  },
  {
   "cell_type": "code",
   "execution_count": 14,
   "metadata": {
    "collapsed": false
   },
   "outputs": [],
   "source": [
    "class Document:\n",
    "    \"\"\"\n",
    "    Document represents one document.\n",
    "    \n",
    "    :param path: Path to file which contains document.\n",
    "    :param sentences: list of document sentences\n",
    "    :param boundaries: list of positions where segments boundaries are \n",
    "                        (note: boundary 0 means segment boundary is behind sentence at index 0)\n",
    "    :param segment_divider: string which indicates boundary between two segments\n",
    "    \"\"\"\n",
    "    \n",
    "    def __init__(self, path):\n",
    "        \"\"\"\n",
    "        :param path: Path to file where documents is.\n",
    "        \"\"\"\n",
    "        self.path = path\n",
    "        self.sentences = []\n",
    "        self.boundaries = []\n",
    "        self.segment_divider = \"==========\"\n",
    "        \n",
    "        self.load_document(path)\n",
    "        \n",
    "    def load_document(self, path):\n",
    "        \"\"\"\n",
    "        Loads document from file.\n",
    "        \n",
    "        :param path: Path to file where document is.\n",
    "        \"\"\"\n",
    "        sentences = self.get_valid_sentences(path)\n",
    "        for i, sentence in enumerate(sentences):\n",
    "            if sentence != self.segment_divider:\n",
    "                self.sentences.append(sentence)\n",
    "            else:\n",
    "                self.boundaries.append(i - len(self.boundaries) - 1)\n",
    "        #remove unecessary boundaries at beginning and the end\n",
    "        del self.boundaries[0]\n",
    "        del self.boundaries[-1]\n",
    "        \n",
    "    def get_valid_sentences(self, path):\n",
    "        \"\"\"\n",
    "        Reads all sentences from file and filters out invalid ones.\n",
    "        Invalid sentences are sentences which are empty or contain\n",
    "        only irrelevant tokens like stop words, punctuations, etc.\n",
    "        \n",
    "        :param path: Path to file where document is.\n",
    "        :return list: List of valid sentences.\n",
    "        \"\"\"\n",
    "        sentences = []\n",
    "        with open(path, 'r') as fd:\n",
    "            for line in fd:\n",
    "                line = line.rstrip('\\n')\n",
    "                if tokenize(line):\n",
    "                    # if line is valid\n",
    "                    sentences.append(line)\n",
    "        return sentences\n",
    "        \n",
    "    \n",
    "    def to_text(self):\n",
    "        \"\"\"\n",
    "        Returns this documents as appendend string of sentences.\n",
    "        \"\"\"\n",
    "        return '\\n'.join(self.sentences)\n",
    "    \n",
    "    def to_segments(self):\n",
    "        \"\"\"\n",
    "        Returns this document as list of segments based on boundaries.\n",
    "        \"\"\"\n",
    "        segments = []\n",
    "        for i, boundary in enumerate(self.boundaries):\n",
    "            if i == 0:\n",
    "                segments.append(' '.join(self.sentences[0:boundary]))\n",
    "            else:\n",
    "                last_b = self.boundaries[i - 1]\n",
    "                segments.append(' '.join(self.sentences[last_b:boundary]))\n",
    "        segments.append(' '.join(self.sentences[self.boundaries[-1]:]))\n",
    "        return segments"
   ]
  },
  {
   "cell_type": "markdown",
   "metadata": {},
   "source": [
    "## Loading dataset"
   ]
  },
  {
   "cell_type": "code",
   "execution_count": 83,
   "metadata": {
    "collapsed": false
   },
   "outputs": [],
   "source": [
    "files_paths = get_filepaths('choi_data')\n",
    "documents = [Document(path) for path in files_paths]"
   ]
  },
  {
   "cell_type": "markdown",
   "metadata": {},
   "source": [
    "## Topic Tiling class"
   ]
  },
  {
   "cell_type": "code",
   "execution_count": 99,
   "metadata": {
    "collapsed": true
   },
   "outputs": [],
   "source": [
    "from scipy import spatial\n",
    "from scipy.signal import argrelextrema\n",
    "\n",
    "class TopicTiling:\n",
    "    \"\"\"\n",
    "    Implementation of Topic Tiling algorithm (M. Riedl and C. Biemann. 2012, Text Segmentation with Topic Models)\n",
    "    \n",
    "    :param m: Multiplier of standard deviation in condition for segmentation (c = mean - m*stddev).\n",
    "    :param cosine_similarities: Cosine similarities between sentences.\n",
    "    :param boundaries: Caluclated segments boundaries.\n",
    "\n",
    "    \"\"\"\n",
    "    \n",
    "    def __init__(self, m = 0.5):\n",
    "        self.m = m\n",
    "        self.cosine_similarities = None\n",
    "        self.boundaries = None\n",
    "        \n",
    "    def fit(self, sentence_vectors):\n",
    "        \"\"\"\n",
    "        Runs Topic Tiling algorithm on list of sentence vectors.\n",
    "        \n",
    "        :param sentence_vectors: List (iterable) of topic distributions for each sentence in document.\n",
    "                                 t-th element of sentence vector is weight for t-th topic for sentence, \n",
    "                                 higher weight means that sentence is \"more about\" t-th topic.\n",
    "                                 \n",
    "        :return: Calculated boundaries based on similatities between sentence vectors.\n",
    "                 Note: boundary '0' means that segment boundary is behind sentence which is at index 0\n",
    "                 in sentence_vectors.\n",
    "        \"\"\"\n",
    "        self.cosine_similarities = np.empty(0)\n",
    "        depth_scores = []\n",
    "\n",
    "        # calculating cosine similarities\n",
    "        for i in range(0, len(sentence_vectors) - 1):\n",
    "            sim = 1 - spatial.distance.cosine(sentence_vectors[i], sentence_vectors[i+1])\n",
    "            self.cosine_similarities = np.append(self.cosine_similarities, sim)\n",
    "\n",
    "        # get all local minima\n",
    "        split_candidates_indices = argrelextrema(self.cosine_similarities, np.less_equal)[0]\n",
    "\n",
    "        # calculating depth scores\n",
    "        for i in split_candidates_indices:\n",
    "            depth = 1/2 * (max_left(self.cosine_similarities, i) + max_right(self.cosine_similarities, i) - 2 * self.cosine_similarities[i])\n",
    "            depth_scores.append((depth, i))\n",
    "\n",
    "        tmp = np.array(list(map(lambda d: d[0], depth_scores)))\n",
    "        \n",
    "        # calculate segment threshold condition\n",
    "        condition = tmp.mean() - self.m*tmp.std()\n",
    "        \n",
    "        # determine segment boundaries\n",
    "        tmp = filter(lambda d: d[0] > condition, depth_scores)\n",
    "        self.boundaries = [d[1] for d in tmp]\n",
    "        \n",
    "        return self.boundaries\n",
    "    \n",
    "    def set_m(self, m):\n",
    "        \"\"\"\n",
    "        Setter for parameter m.\n",
    "        \"\"\"\n",
    "        if m:\n",
    "            self.m = m"
   ]
  },
  {
   "cell_type": "markdown",
   "metadata": {},
   "source": [
    "## Segmentation Engine class"
   ]
  },
  {
   "cell_type": "code",
   "execution_count": 253,
   "metadata": {
    "collapsed": false
   },
   "outputs": [],
   "source": [
    "from sklearn.base import BaseEstimator\n",
    "from sklearn.feature_extraction.text import CountVectorizer\n",
    "from sklearn.decomposition import LatentDirichletAllocation\n",
    "from nltk.metrics.segmentation import pk\n",
    "from nltk.metrics.segmentation import windowdiff\n",
    "from time import time\n",
    "\n",
    "class SegmentationEngine(BaseEstimator):\n",
    "    \"\"\"\n",
    "    Implementation of segmentation engine used for segmenting documents.\n",
    "    Based on Latent Dirichlet Allocation model and Topic Tiling algorithm.\n",
    "    \n",
    "    :param vectorizer: CountVectorizer class used for transforming and cleaning input data.\n",
    "    :param lda: Latent Dirichlet Allocation model.\n",
    "    :param tt: Topic Tiling class.\n",
    "    :param n_topics: Number of topics parameter of LDA.\n",
    "    :param max_iter: Maximum number of iterations parameter of LDA.\n",
    "    :param a: Document topics prior parameter of LDA.\n",
    "    :param b: Topic document prior parameter of LDA.\n",
    "    :param m: Multiplier parameter of Topic Tiling\n",
    "    :param random_state: Random state.\n",
    "    \"\"\"\n",
    "    \n",
    "    def __init__(self, n_topics = 10, max_iter = None, a = None, b = None, m = None, random_state = None):\n",
    "        \"\"\"\n",
    "        Initializes estimator.\n",
    "        \"\"\"\n",
    "        self.n_topics = n_topics\n",
    "        self.max_iter = max_iter\n",
    "        self.a = a\n",
    "        self.b = b\n",
    "        self.m = m\n",
    "        self.random_state = random_state\n",
    "        \n",
    "        self.vectorizer = CountVectorizer(max_df=0.95, min_df=2, tokenizer=tokenize, stop_words='english')\n",
    "        self.lda = LatentDirichletAllocation(n_topics=n_topics, max_iter=max_iter, doc_topic_prior=a, topic_word_prior=b, random_state=random_state)\n",
    "        self.tt = TopicTiling(m=m)\n",
    "        \n",
    "    def fit(self, documents):\n",
    "        \"\"\"\n",
    "        Trains segmentation engine.\n",
    "        \n",
    "        :param documents: List (iterable) of documents (class Document). \n",
    "        \"\"\"\n",
    "        t0 = time()\n",
    "        \n",
    "        train_data = self.parse_data(documents)\n",
    "        X = self.vectorizer.fit_transform(train_data)\n",
    "        self.lda.fit(X)\n",
    "        \n",
    "        print('Fitted in %0.2f seconds' % (time() - t0))\n",
    "        \n",
    "    def predict(self, documents):\n",
    "        \"\"\"\n",
    "        Calculates segment boundaries for documents.\n",
    "        \n",
    "        :param documents: List (iterable) of documents (class Document).\n",
    "        :return: List of boundaries for each document.\n",
    "        \"\"\"\n",
    "        # TODO check if fit has been called\n",
    "        estimated_boundaries = []\n",
    "        for document in documents:\n",
    "            sentence_vectors = [self.lda.transform(self.vectorizer.transform([sentence])) for sentence in document.sentences]\n",
    "            estimated_boundaries.append(self.tt.fit(sentence_vectors))\n",
    "        return estimated_boundaries\n",
    "    \n",
    "\n",
    "    def score(self, X, method = 'pk'):\n",
    "        \"\"\"\n",
    "        Calculates segmentation score with Pk or WindowDiff measure.\n",
    "        \n",
    "        :param X: List (iterable) of documents (class Document).\n",
    "        :param method: String which indicates which evaluation method should be used.\n",
    "                       Possible evaluation methods are Pk measure ('pk') or WindowDiff method ('wd').\n",
    "                       By default Pk measure is used.\n",
    "        :return float: Evaluation score (actually method returns 1 - pk or 1 - wd because standard \n",
    "                       scikit learn grid search treats higher values as better while the oposite is \n",
    "                       the case with pk and wd).\n",
    "        \"\"\"\n",
    "        if method == 'wd':\n",
    "            scorer = windowdiff\n",
    "        else:\n",
    "            scorer = pk\n",
    "            \n",
    "        scores = np.empty(0)\n",
    "        estimated_boundaries = self.predict(X)\n",
    "        for i, document in enumerate(X):            \n",
    "            ref_doc = doc_to_seg_string(len(document.sentences), document.boundaries)\n",
    "            estimated_doc = doc_to_seg_string(len(document.sentences), estimated_boundaries[i])\n",
    "            # calculate k\n",
    "            k = int(round(len(ref_doc) / (ref_doc.count('1') * 2.)))\n",
    "            scores = np.append(scores, scorer(ref_doc, estimated_doc, k))\n",
    "        return 1 - scores.mean()    \n",
    "                \n",
    "                \n",
    "    def set_params(self, **params):\n",
    "        \"\"\"\n",
    "        Sets value of parameters.\n",
    "        \n",
    "        :param params: Dictionary of parameters to be set.\n",
    "        \"\"\"\n",
    "        super(SegmentationEngine, self).set_params(**params)\n",
    "\n",
    "        # refresh parameters\n",
    "        self.lda.set_params(n_topics=self.n_topics, max_iter=self.max_iter, doc_topic_prior=self.a, topic_word_prior=self.b, random_state=self.random_state)\n",
    "        self.tt.set_m(self.m)\n",
    "        return self\n",
    "        \n",
    "    def parse_data(self, documents):\n",
    "        \"\"\"\n",
    "        Transforms list of documents into list of segments.\n",
    "        :param documents: List of documents (class Document)\n",
    "        :return list: List of segments.\n",
    "        \"\"\"\n",
    "        train_data = []\n",
    "        for document in documents:\n",
    "            train_data.extend(document.to_segments())\n",
    "        return train_data"
   ]
  },
  {
   "cell_type": "markdown",
   "metadata": {},
   "source": [
    "### Train-test split"
   ]
  },
  {
   "cell_type": "code",
   "execution_count": 174,
   "metadata": {
    "collapsed": true
   },
   "outputs": [],
   "source": [
    "from sklearn.cross_validation import train_test_split\n",
    "\n",
    "X_train, X_test = train_test_split(documents, test_size = 0.2)"
   ]
  },
  {
   "cell_type": "markdown",
   "metadata": {},
   "source": [
    "### Grid Search\n",
    "\n",
    "### Optimizing parameters $K$, $\\alpha$ and $x$\n",
    "\n",
    "### WARNING! Very slow block"
   ]
  },
  {
   "cell_type": "code",
   "execution_count": null,
   "metadata": {
    "collapsed": true
   },
   "outputs": [],
   "source": [
    "from sklearn.grid_search import GridSearchCV\n",
    "from sklearn.cross_validation import ShuffleSplit\n",
    "\n",
    "cv = ShuffleSplit(len(X_train), n_iter=1, test_size=.2)\n",
    "\n",
    "engine = SegmentationEngine(max_iter=60, a=0.1, b=0.01)\n",
    "params = {'n_topics': [60, 80, 100, 120, 130, 140, 150, 160], 'm': [0.1, 0.2, 0.3, 0.4, 0.5, 0.6, 0.7], 'a':[0, 0.1, 0.2, 0.3, 0.4, 0.5, 0.6, 0.7, 0.8, 0.9, 1]}\n",
    "clf = GridSearchCV(engine, params, cv=cv)\n",
    "\n",
    "t = time()\n",
    "clf.fit(X_train)\n",
    "print('Duration %f hours' % ((time() - t)/3600))"
   ]
  },
  {
   "cell_type": "code",
   "execution_count": 254,
   "metadata": {
    "collapsed": false
   },
   "outputs": [
    {
     "name": "stdout",
     "output_type": "stream",
     "text": [
      "0.890670067939813\n"
     ]
    }
   ],
   "source": [
    "clf.best_estimator_.score(X_test)"
   ]
  },
  {
   "cell_type": "code",
   "execution_count": 113,
   "metadata": {
    "collapsed": false
   },
   "outputs": [],
   "source": [
    "doc = list(filter(lambda d: d.path == 'choi_data/4/6-8/15.ref', X_test))"
   ]
  },
  {
   "cell_type": "code",
   "execution_count": 219,
   "metadata": {
    "collapsed": false
   },
   "outputs": [],
   "source": [
    "doc = X_test[77]\n",
    "plot_indices = clf.best_estimator_.predict([doc])"
   ]
  },
  {
   "cell_type": "markdown",
   "metadata": {},
   "source": [
    "### Graph"
   ]
  },
  {
   "cell_type": "code",
   "execution_count": 252,
   "metadata": {
    "collapsed": false
   },
   "outputs": [
    {
     "data": {
      "image/png": "[encoded data removed]",
      "text/plain": [
       "<matplotlib.figure.Figure at 0x7fbf6f3957b8>"
      ]
     },
     "metadata": {},
     "output_type": "display_data"
    },
    {
     "name": "stdout",
     "output_type": "stream",
     "text": [
      "            Pk measure result 0.054795\n",
      "            WD measure result 0.109589\n"
     ]
    }
   ],
   "source": [
    "import matplotlib.pyplot as plt\n",
    "\n",
    "plt.vlines(plot_indices, 0, 1, 'r', linewidth=1.5)\n",
    "plt.plot(range(0, len(clf.best_estimator_.tt.cosine_similarities)), clf.best_estimator_.tt.cosine_similarities)\n",
    "plt.xlabel(\"sentences\")\n",
    "plt.ylabel(\"cosine similarities\")\n",
    "plt.grid()\n",
    "plt.show()\n",
    "\n",
    "ref_doc = doc_to_seg_string(len(doc.sentences), doc.boundaries)\n",
    "estimated_doc = doc_to_seg_string(len(doc.sentences), plot_indices[0])\n",
    "k = int(round(len(ref_doc) / (ref_doc.count('1') * 2.)))\n",
    "\n",
    "print('Pk measure result %f' % pk(ref_doc, estimated_doc))\n",
    "print('WD measure result %f' % windowdiff(ref_doc, estimated_doc, k))"
   ]
  }
 ],
 "metadata": {
  "kernelspec": {
   "display_name": "Python 3",
   "language": "python",
   "name": "python3"
  },
  "language_info": {
   "codemirror_mode": {
    "name": "ipython",
    "version": 3
   },
   "file_extension": ".py",
   "mimetype": "text/x-python",
   "name": "python",
   "nbconvert_exporter": "python",
   "pygments_lexer": "ipython3",
   "version": "3.4.2"
  }
 },
 "nbformat": 4,
 "nbformat_minor": 0
}
